{
 "cells": [
  {
   "cell_type": "code",
   "execution_count": 1,
   "id": "0ee0e0f6",
   "metadata": {},
   "outputs": [
    {
     "name": "stdout",
     "output_type": "stream",
     "text": [
      "NumPy version: 1.26.4\n",
      "OpenCV version: 4.11.0\n"
     ]
    }
   ],
   "source": [
    "import numpy as np\n",
    "import cv2\n",
    "\n",
    "print(\"NumPy version:\", np.__version__)\n",
    "print(\"OpenCV version:\", cv2.__version__)\n"
   ]
  },
  {
   "cell_type": "code",
   "execution_count": null,
   "id": "55a70560",
   "metadata": {},
   "outputs": [],
   "source": [
    "import pandas as pd\n",
    "import numpy as np\n",
    "import whisper\n",
    "import os\n",
    "from whisper.utils import format_timestamp\n",
    "import cv2\n",
    "import mediapipe as mp\n",
    "import os\n",
    "import json"
   ]
  },
  {
   "cell_type": "markdown",
   "id": "45dd5b69",
   "metadata": {},
   "source": [
    "#### transcripts"
   ]
  },
  {
   "cell_type": "code",
   "execution_count": null,
   "id": "db0da190",
   "metadata": {},
   "outputs": [
    {
     "name": "stdout",
     "output_type": "stream",
     "text": [
      "Transcribing to .srt: InasFavoriteThings.webm\n"
     ]
    },
    {
     "name": "stderr",
     "output_type": "stream",
     "text": [
      "/home/codespace/.python/current/lib/python3.12/site-packages/whisper/transcribe.py:132: UserWarning: FP16 is not supported on CPU; using FP32 instead\n",
      "  warnings.warn(\"FP16 is not supported on CPU; using FP32 instead\")\n"
     ]
    },
    {
     "name": "stdout",
     "output_type": "stream",
     "text": [
      "Saved SRT: /workspaces/Gesture-Language-Alignment-in-Instructional-Videos/00_videos/InasFavoriteThings.srt\n",
      "Transcribing to .srt: EasyBlueberryMuffinsRecipe.mp4\n"
     ]
    },
    {
     "name": "stderr",
     "output_type": "stream",
     "text": [
      "/home/codespace/.python/current/lib/python3.12/site-packages/whisper/transcribe.py:132: UserWarning: FP16 is not supported on CPU; using FP32 instead\n",
      "  warnings.warn(\"FP16 is not supported on CPU; using FP32 instead\")\n"
     ]
    },
    {
     "name": "stdout",
     "output_type": "stream",
     "text": [
      "Saved SRT: /workspaces/Gesture-Language-Alignment-in-Instructional-Videos/00_videos/EasyBlueberryMuffinsRecipe.srt\n",
      "Transcribing to .srt: PeruvianChickenRecipe.webm\n"
     ]
    },
    {
     "name": "stderr",
     "output_type": "stream",
     "text": [
      "/home/codespace/.python/current/lib/python3.12/site-packages/whisper/transcribe.py:132: UserWarning: FP16 is not supported on CPU; using FP32 instead\n",
      "  warnings.warn(\"FP16 is not supported on CPU; using FP32 instead\")\n"
     ]
    },
    {
     "name": "stdout",
     "output_type": "stream",
     "text": [
      "Saved SRT: /workspaces/Gesture-Language-Alignment-in-Instructional-Videos/00_videos/PeruvianChickenRecipe.srt\n",
      "Transcribing to .srt: PerfectWeeknightShrimpFriedRice.mkv\n"
     ]
    },
    {
     "name": "stderr",
     "output_type": "stream",
     "text": [
      "/home/codespace/.python/current/lib/python3.12/site-packages/whisper/transcribe.py:132: UserWarning: FP16 is not supported on CPU; using FP32 instead\n",
      "  warnings.warn(\"FP16 is not supported on CPU; using FP32 instead\")\n"
     ]
    },
    {
     "name": "stdout",
     "output_type": "stream",
     "text": [
      "Saved SRT: /workspaces/Gesture-Language-Alignment-in-Instructional-Videos/00_videos/PerfectWeeknightShrimpFriedRice.srt\n"
     ]
    }
   ],
   "source": [
    "model = whisper.load_model(\"small\")\n",
    "\n",
    "VIDEO_DIR = \"/workspaces/Gesture-Language-Alignment-in-Instructional-Videos/00_videos/raw_videos\"\n",
    "SRT_OUTPUT_DIR = \"/workspaces/Gesture-Language-Alignment-in-Instructional-Videos/00_videos/transcripts_with_timestamps\"\n",
    "os.makedirs(SRT_OUTPUT_DIR, exist_ok=True)\n",
    "\n",
    "for filename in os.listdir(VIDEO_DIR):\n",
    "    if filename.lower().endswith((\".mp4\", \".webm\", \".mkv\", \".mov\")):\n",
    "        video_path = os.path.join(VIDEO_DIR, filename)\n",
    "        print(f\"Transcribing to .srt: {filename}\")\n",
    "        \n",
    "        result = model.transcribe(video_path)\n",
    "        srt_path = os.path.join(SRT_OUTPUT_DIR, filename.rsplit(\".\", 1)[0] + \".srt\")\n",
    "        \n",
    "        with open(srt_path, \"w\") as f:\n",
    "            for i, segment in enumerate(result[\"segments\"]):\n",
    "                start = format_timestamp(segment['start'], always_include_hours=True)\n",
    "                end = format_timestamp(segment['end'], always_include_hours=True)\n",
    "                text = segment[\"text\"].strip()\n",
    "                \n",
    "                f.write(f\"{i + 1}\\n{start} --> {end}\\n{text}\\n\\n\")\n",
    "\n",
    "        print(f\"Saved SRT: {srt_path}\")"
   ]
  },
  {
   "cell_type": "markdown",
   "id": "bebdc094",
   "metadata": {},
   "source": [
    "#### poses "
   ]
  },
  {
   "cell_type": "code",
   "execution_count": null,
   "id": "318a174a",
   "metadata": {},
   "outputs": [],
   "source": [
    "VIDEO_DIR = \"/workspaces/Gesture-Language-Alignment-in-Instructional-Videos/00_videos/raw_videos\"\n",
    "OUTPUT_DIR = \"/workspaces/Gesture-Language-Alignment-in-Instructional-Videos/00_videos/pose_outputs\"\n",
    "os.makedirs(OUTPUT_DIR, exist_ok=True)\n",
    "\n",
    "mp_pose = mp.solutions.pose\n",
    "pose = mp_pose.Pose(static_image_mode=False, min_detection_confidence=0.5)\n",
    "mp_drawing = mp.solutions.drawing_utils\n",
    "\n",
    "for filename in os.listdir(VIDEO_DIR):\n",
    "    if filename.lower().endswith((\".mp4\", \".webm\", \".mkv\", \".mov\")):\n",
    "        video_path = os.path.join(VIDEO_DIR, filename)\n",
    "        cap = cv2.VideoCapture(video_path)\n",
    "\n",
    "        frame_data = {}\n",
    "        frame_idx = 0\n",
    "\n",
    "        print(f\"Processing: {filename}\")\n",
    "\n",
    "        while cap.isOpened():\n",
    "            ret, frame = cap.read()\n",
    "            if not ret:\n",
    "                break\n",
    "\n",
    "            frame_rgb = cv2.cvtColor(frame, cv2.COLOR_BGR2RGB)\n",
    "            results = pose.process(frame_rgb)\n",
    "\n",
    "            if results.pose_landmarks:\n",
    "                keypoints = []\n",
    "                for lm in results.pose_landmarks.landmark:\n",
    "                    keypoints.append({\n",
    "                        \"x\": lm.x,\n",
    "                        \"y\": lm.y,\n",
    "                        \"z\": lm.z,\n",
    "                        \"visibility\": lm.visibility\n",
    "                    })\n",
    "                frame_data[frame_idx] = keypoints\n",
    "\n",
    "            frame_idx += 1\n",
    "\n",
    "        cap.release()\n",
    "\n",
    "        output_path = os.path.join(OUTPUT_DIR, filename.rsplit(\".\", 1)[0] + \"_pose.json\")\n",
    "        with open(output_path, \"w\") as f:\n",
    "            json.dump(frame_data, f)\n",
    "\n",
    "        print(f\"Saved pose data to: {output_path}\\n\")\n",
    "\n",
    "pose.close()"
   ]
  },
  {
   "cell_type": "code",
   "execution_count": null,
   "id": "4db1218d",
   "metadata": {},
   "outputs": [],
   "source": []
  }
 ],
 "metadata": {
  "kernelspec": {
   "display_name": "Python 3",
   "language": "python",
   "name": "python3"
  },
  "language_info": {
   "codemirror_mode": {
    "name": "ipython",
    "version": 3
   },
   "file_extension": ".py",
   "mimetype": "text/x-python",
   "name": "python",
   "nbconvert_exporter": "python",
   "pygments_lexer": "ipython3",
   "version": "3.12.1"
  }
 },
 "nbformat": 4,
 "nbformat_minor": 5
}
