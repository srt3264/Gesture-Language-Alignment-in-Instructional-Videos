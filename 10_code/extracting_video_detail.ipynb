{
 "cells": [
  {
   "cell_type": "code",
   "execution_count": 3,
   "id": "55a70560",
   "metadata": {},
   "outputs": [],
   "source": [
    "import pandas as pd\n",
    "import numpy as np\n",
    "import whisper"
   ]
  },
  {
   "cell_type": "code",
   "execution_count": 4,
   "id": "db0da190",
   "metadata": {},
   "outputs": [
    {
     "name": "stderr",
     "output_type": "stream",
     "text": [
      "100%|███████████████████████████████████████| 461M/461M [00:06<00:00, 77.7MiB/s]\n",
      "/home/codespace/.python/current/lib/python3.12/site-packages/whisper/transcribe.py:132: UserWarning: FP16 is not supported on CPU; using FP32 instead\n",
      "  warnings.warn(\"FP16 is not supported on CPU; using FP32 instead\")\n"
     ]
    },
    {
     "name": "stdout",
     "output_type": "stream",
     "text": [
      " Hey guys, I'm Dina from SimplyHomeCook.com and today I'll be showing how to make these fluffy and moist blueberry muffins. They're loaded with a ton of blueberries and they're topped the simple and delicious brown sugar streusel. So you want to start off by combining all of your dry ingredients. So in a large bowl combine two cups of all-purpose flour, a teaspoon of baking powder, half a teaspoon of baking soda, and a quarter teaspoon of salt. Then whisk it all together and reserve one tablespoon of that flour mixture. Now mix that reserved tablespoon of the flour mixture with one and a half cups of fresh blueberries. The reason why we add that little tiny bit of flour to those blueberries is when we add them to the batter, during baking the blueberries don't sink as fast when they're coated in flour. Now add three eggs into a large bowl and whisk them on high speed using an electric mixer. So you want to do this for about three minutes until the eggs become fluffy and pale. Then continue beating the eggs as you slowly add one cup of granulated sugar. You want to keep beating those eggs for about three more minutes. So the key to really fluffy muffins is well beaten eggs. Now you want to add a teaspoon of vanilla extract and a tablespoon of fresh lemon juice. Now continue beating the egg mixture as you slowly add three quarter cups of heavy cream. Now you can begin adding your dry ingredients, but don't do it all at once. So get a sifter out and then add about a third of that flour mixture at a time with mixing in between. Once you've got all of your dry ingredients well combined into the muffin batter, continue beating with your electric mixer as you slowly gradually add in four tablespoons of melted unsalted butter. Alright, now the last and final step is adding in those blueberries. And at this point you want to fold it in with a spatula. Now line your muffin tin with cupcake liners and begin scooping the batter out using a large cookie scoop. I like to top my blueberry muffins with a few extra blueberries on top, but that's totally optional. And before the muffins go into the oven, you want to make that simple streusel. In a small bowl, combine one tablespoon of unsalted cold cubed butter, two tablespoons of all-purpose flour, a pinch of salt, a teaspoon of cinnamon, and three tablespoons of brown sugar. Mash that all together using a fork until the ingredients are well combined and they have a crumbly texture to them. Now top the blueberry muffins with the streusel topping and bake them in the oven at 350 degrees Fahrenheit for about 35 minutes. I hope you guys enjoyed watching this video and if you did please be sure to share, like, and subscribe to our channel so you guys never miss out on any of our new recipes. See you next time!\n"
     ]
    }
   ],
   "source": [
    "model = whisper.load_model(\"small\")\n",
    "result = model.transcribe(\"/workspaces/Gesture-Language-Alignment-in-Instructional-Videos/00_videos/EasyBlueberryMuffinsRecipe.mp4\")\n",
    "print(result[\"text\"])"
   ]
  },
  {
   "cell_type": "code",
   "execution_count": null,
   "id": "67dc292f",
   "metadata": {},
   "outputs": [],
   "source": []
  }
 ],
 "metadata": {
  "kernelspec": {
   "display_name": "Python 3",
   "language": "python",
   "name": "python3"
  },
  "language_info": {
   "codemirror_mode": {
    "name": "ipython",
    "version": 3
   },
   "file_extension": ".py",
   "mimetype": "text/x-python",
   "name": "python",
   "nbconvert_exporter": "python",
   "pygments_lexer": "ipython3",
   "version": "3.12.1"
  }
 },
 "nbformat": 4,
 "nbformat_minor": 5
}
